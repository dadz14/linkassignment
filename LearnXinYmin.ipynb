{
  "nbformat": 4,
  "nbformat_minor": 0,
  "metadata": {
    "colab": {
      "provenance": []
    },
    "kernelspec": {
      "name": "python3",
      "display_name": "Python 3"
    },
    "language_info": {
      "name": "python"
    }
  },
  "cells": [
    {
      "cell_type": "code",
      "execution_count": 1,
      "metadata": {
        "id": "OqoDoObonnEa",
        "colab": {
          "base_uri": "https://localhost:8080/"
        },
        "outputId": "f0146c92-8809-4a2d-e052-0e23a08045cf"
      },
      "outputs": [
        {
          "output_type": "execute_result",
          "data": {
            "text/plain": [
              "3"
            ]
          },
          "metadata": {},
          "execution_count": 1
        }
      ],
      "source": [
        "# 주석\n",
        "\"\"\"\n",
        "여\n",
        "러\n",
        "줄\n",
        "주\n",
        "석\n",
        "\"\"\"\n",
        "#######################################\n",
        "## 1. 기초 자료형\n",
        "#######################################"
      ]
    },
    {
      "cell_type": "code",
      "source": [
        "# 수와 계산\n",
        "3"
      ],
      "metadata": {
        "id": "iZFVPY42_mBJ"
      },
      "execution_count": null,
      "outputs": []
    },
    {
      "cell_type": "code",
      "source": [
        "# 기초 연산\n",
        "1 + 1\n",
        "8 - 1\n",
        "10 * 2\n",
        "35 / 6"
      ],
      "metadata": {
        "colab": {
          "base_uri": "https://localhost:8080/"
        },
        "id": "ynlB62c894m4",
        "outputId": "d69beb76-502e-476d-a425-97fcb6f483d0"
      },
      "execution_count": 2,
      "outputs": [
        {
          "output_type": "execute_result",
          "data": {
            "text/plain": [
              "5.833333333333333"
            ]
          },
          "metadata": {},
          "execution_count": 2
        }
      ]
    },
    {
      "cell_type": "code",
      "source": [
        "# 몫\n",
        "5 // 3\n",
        "-5 // 3\n",
        "5.0 // 3.0 # 몫의 자료형이 실수형\n",
        "-5 // 3.0"
      ],
      "metadata": {
        "colab": {
          "base_uri": "https://localhost:8080/"
        },
        "id": "HqvmeUgc95R2",
        "outputId": "6fb091cd-08e4-46dd-f6ce-a1293c09dbf9"
      },
      "execution_count": 4,
      "outputs": [
        {
          "output_type": "execute_result",
          "data": {
            "text/plain": [
              "-2.0"
            ]
          },
          "metadata": {},
          "execution_count": 4
        }
      ]
    },
    {
      "cell_type": "code",
      "source": [
        "# 나누기의 결과는 언제나 실수형\n",
        "10/2 "
      ],
      "metadata": {
        "colab": {
          "base_uri": "https://localhost:8080/"
        },
        "id": "fkiSIuqk-ZRQ",
        "outputId": "96a6143f-0c27-4218-c359-a6a5f1d9e080"
      },
      "execution_count": 5,
      "outputs": [
        {
          "output_type": "execute_result",
          "data": {
            "text/plain": [
              "5.0"
            ]
          },
          "metadata": {},
          "execution_count": 5
        }
      ]
    },
    {
      "cell_type": "code",
      "source": [
        "# 나머지\n",
        "7 % 3\n",
        "-7 % 3 # \"a % b\" 계산에서 나머지의 부호는 b를 따른다."
      ],
      "metadata": {
        "colab": {
          "base_uri": "https://localhost:8080/"
        },
        "id": "lYFrH1cY-t_g",
        "outputId": "bb612216-5458-4ff6-d5bc-742622d6179e"
      },
      "execution_count": 6,
      "outputs": [
        {
          "output_type": "execute_result",
          "data": {
            "text/plain": [
              "2"
            ]
          },
          "metadata": {},
          "execution_count": 6
        }
      ]
    },
    {
      "cell_type": "code",
      "source": [
        "# 제곱\n",
        "2 ** 3"
      ],
      "metadata": {
        "colab": {
          "base_uri": "https://localhost:8080/"
        },
        "id": "zdCIOe02_IPp",
        "outputId": "475f0ecf-2b4f-488f-8fee-32924d0f45ab"
      },
      "execution_count": 7,
      "outputs": [
        {
          "output_type": "execute_result",
          "data": {
            "text/plain": [
              "8"
            ]
          },
          "metadata": {},
          "execution_count": 7
        }
      ]
    },
    {
      "cell_type": "code",
      "source": [
        "# 우선순위\n",
        "1 + 3 * 2\n",
        "(1 + 3) * 2"
      ],
      "metadata": {
        "colab": {
          "base_uri": "https://localhost:8080/"
        },
        "id": "2FrewcnB_Ouf",
        "outputId": "2e38319a-fb28-45eb-da54-288266c64eff"
      },
      "execution_count": 8,
      "outputs": [
        {
          "output_type": "execute_result",
          "data": {
            "text/plain": [
              "8"
            ]
          },
          "metadata": {},
          "execution_count": 8
        }
      ]
    },
    {
      "cell_type": "code",
      "source": [
        "# 불대수\n",
        "True\n",
        "False\n",
        "# 대문자 주의\n",
        "\n",
        "# 부정 연산\n",
        "not True\n",
        "not False "
      ],
      "metadata": {
        "colab": {
          "base_uri": "https://localhost:8080/"
        },
        "id": "AOV2yfGs_V3o",
        "outputId": "ebf06071-23ab-4ab4-d381-92274aeae90c"
      },
      "execution_count": 10,
      "outputs": [
        {
          "output_type": "execute_result",
          "data": {
            "text/plain": [
              "True"
            ]
          },
          "metadata": {},
          "execution_count": 10
        }
      ]
    },
    {
      "cell_type": "code",
      "source": [
        "# 불 연산\n",
        "True and False\n",
        "False or True\n",
        "True + True\n",
        "False * 5"
      ],
      "metadata": {
        "colab": {
          "base_uri": "https://localhost:8080/"
        },
        "id": "kd6yzW7V_eaB",
        "outputId": "6d1800cd-fd24-44ac-ce8c-55d3fcf14e1e"
      },
      "execution_count": 14,
      "outputs": [
        {
          "output_type": "execute_result",
          "data": {
            "text/plain": [
              "0"
            ]
          },
          "metadata": {},
          "execution_count": 14
        }
      ]
    },
    {
      "cell_type": "code",
      "source": [
        "# 비교 연산\n",
        "0 == False\n",
        "1 == True\n",
        "2 == True\n",
        "0 != False"
      ],
      "metadata": {
        "colab": {
          "base_uri": "https://localhost:8080/"
        },
        "id": "g4-zMKTB_wT-",
        "outputId": "7cd0aca7-6098-450c-f9b1-267c88743424"
      },
      "execution_count": 17,
      "outputs": [
        {
          "output_type": "execute_result",
          "data": {
            "text/plain": [
              "False"
            ]
          },
          "metadata": {},
          "execution_count": 17
        }
      ]
    },
    {
      "cell_type": "code",
      "source": [
        "# bool 함수\n",
        "# 0, 빈 배열은 false, 나머지는 true\n",
        "bool(0)\n",
        "bool(\"\")\n",
        "bool([])\n",
        "bool({})\n",
        "bool(())\n",
        "bool(set())\n",
        "bool(5)\n",
        "bool(-10)"
      ],
      "metadata": {
        "colab": {
          "base_uri": "https://localhost:8080/"
        },
        "id": "AIv6CtSF_1Be",
        "outputId": "6bf1f282-255a-4e15-dd94-2adb8612d0af"
      },
      "execution_count": 18,
      "outputs": [
        {
          "output_type": "execute_result",
          "data": {
            "text/plain": [
              "True"
            ]
          },
          "metadata": {},
          "execution_count": 18
        }
      ]
    },
    {
      "cell_type": "code",
      "source": [
        "# 논리 연산 불과 정수\n",
        "bool(0) # False\n",
        "bool(2) # True\n",
        "0 and 2 # 0\n",
        "-5 or 0 # -5"
      ],
      "metadata": {
        "colab": {
          "base_uri": "https://localhost:8080/"
        },
        "id": "28ion2te_3xo",
        "outputId": "d4c0cda6-1d8b-4e88-b5d5-bc31dafd1fe3"
      },
      "execution_count": 1,
      "outputs": [
        {
          "output_type": "execute_result",
          "data": {
            "text/plain": [
              "-5"
            ]
          },
          "metadata": {},
          "execution_count": 1
        }
      ]
    },
    {
      "cell_type": "code",
      "source": [
        "# 비교 연산자\n",
        "1 == 1\n",
        "1 != 2\n",
        "1 < 10\n",
        "1 >= 2\n",
        "1 < 2 and 2 < 3\n",
        "1 < 2 < 3 # 위랑 동일"
      ],
      "metadata": {
        "colab": {
          "base_uri": "https://localhost:8080/"
        },
        "id": "nI1LWuhjlKRz",
        "outputId": "8182a293-069c-46d4-c3db-2ecaedc3a8e1"
      },
      "execution_count": 2,
      "outputs": [
        {
          "output_type": "execute_result",
          "data": {
            "text/plain": [
              "False"
            ]
          },
          "metadata": {},
          "execution_count": 2
        }
      ]
    },
    {
      "cell_type": "code",
      "source": [
        "# 포인트\n",
        "a = [1, 2, 3, 4] # a -> 새로운 [1, 2, 3, 4]\n",
        "b = a # b -> a\n",
        "b is a # True, a와 b는 같은 object를 참조한다.\n",
        "b == a # True, a와 b는 같은 object를 참조하고 이 값은 동일하다.\n",
        "b = [1, 2, 3, 4] # b -> 다른 [1, 2, 3, 4]\n",
        "b is a # False, a와 b는 다른 object를 참조한다.\n",
        "b == a # True, a, b는 다른 object를 참조하지만 이 값은 동일하다."
      ],
      "metadata": {
        "id": "teZzV1_glZlW"
      },
      "execution_count": null,
      "outputs": []
    },
    {
      "cell_type": "code",
      "source": [
        "# 문자열\n",
        "'이건 문자열'\n",
        "\"이것도 문자열\""
      ],
      "metadata": {
        "id": "FlvdhMGKyqh-"
      },
      "execution_count": null,
      "outputs": []
    },
    {
      "cell_type": "code",
      "source": [
        "#문자열 접합\n",
        "'안' + \"녕\" + '세'\"상\""
      ],
      "metadata": {
        "colab": {
          "base_uri": "https://localhost:8080/",
          "height": 35
        },
        "id": "d_-kp-J_yw4E",
        "outputId": "d17dc8d8-61f1-4baf-ed64-699aa95eb1b5"
      },
      "execution_count": 3,
      "outputs": [
        {
          "output_type": "execute_result",
          "data": {
            "text/plain": [
              "'안녕세상'"
            ],
            "application/vnd.google.colaboratory.intrinsic+json": {
              "type": "string"
            }
          },
          "metadata": {},
          "execution_count": 3
        }
      ]
    },
    {
      "cell_type": "code",
      "source": [
        "#문자열은 문자의 배열\n",
        "\"문자열\"[0]"
      ],
      "metadata": {
        "colab": {
          "base_uri": "https://localhost:8080/",
          "height": 35
        },
        "id": "vGgnm19OzKfO",
        "outputId": "aa396d41-cc74-4da3-fc0d-4de77143cfe1"
      },
      "execution_count": 4,
      "outputs": [
        {
          "output_type": "execute_result",
          "data": {
            "text/plain": [
              "'문'"
            ],
            "application/vnd.google.colaboratory.intrinsic+json": {
              "type": "string"
            }
          },
          "metadata": {},
          "execution_count": 4
        }
      ]
    },
    {
      "cell_type": "code",
      "source": [
        "#문자열의 길이\n",
        "len(\"문자열\")"
      ],
      "metadata": {
        "colab": {
          "base_uri": "https://localhost:8080/"
        },
        "id": "bcTIR3hYzWar",
        "outputId": "d4c01fe6-ef78-4933-a64a-90ddaa71530a"
      },
      "execution_count": 5,
      "outputs": [
        {
          "output_type": "execute_result",
          "data": {
            "text/plain": [
              "3"
            ]
          },
          "metadata": {},
          "execution_count": 5
        }
      ]
    },
    {
      "cell_type": "code",
      "source": [
        "#f문자열을 그대로 사용할 수 있다.\n",
        "name = '김동호'\n",
        "f\"내 이름은 {name}\"\n",
        "\"내 이름은 {name}\"\n",
        "f\"이름 {name}은 {len(name)}글자\""
      ],
      "metadata": {
        "colab": {
          "base_uri": "https://localhost:8080/",
          "height": 35
        },
        "id": "frf1YdWyzcuB",
        "outputId": "be1bf377-e207-428c-8a65-66ee9bc105bc"
      },
      "execution_count": 8,
      "outputs": [
        {
          "output_type": "execute_result",
          "data": {
            "text/plain": [
              "'내 이름은 {name}'"
            ],
            "application/vnd.google.colaboratory.intrinsic+json": {
              "type": "string"
            }
          },
          "metadata": {},
          "execution_count": 8
        }
      ]
    },
    {
      "cell_type": "code",
      "source": [
        "#'None'은 객체\n",
        "None"
      ],
      "metadata": {
        "id": "A4PGer-b-26t"
      },
      "execution_count": 10,
      "outputs": []
    },
    {
      "cell_type": "code",
      "source": [
        "#'None'의 동일성을 확인을 위해 '=='대신 'is' 사용\n",
        "'ETC' == None\n",
        "None is None"
      ],
      "metadata": {
        "colab": {
          "base_uri": "https://localhost:8080/"
        },
        "id": "ZzEFPc03_BAw",
        "outputId": "34fd81a5-5511-4248-f96d-3ab66423a037"
      },
      "execution_count": 13,
      "outputs": [
        {
          "output_type": "execute_result",
          "data": {
            "text/plain": [
              "True"
            ]
          },
          "metadata": {},
          "execution_count": 13
        }
      ]
    },
    {
      "cell_type": "code",
      "source": [
        "#######################################\n",
        "## 1. 변수와 집합\n",
        "#######################################"
      ],
      "metadata": {
        "id": "yMP_LA0I_hhG"
      },
      "execution_count": null,
      "outputs": []
    },
    {
      "cell_type": "code",
      "source": [
        "# 'print' 함수\n",
        "print(\"hello wordl!\");"
      ],
      "metadata": {
        "colab": {
          "base_uri": "https://localhost:8080/"
        },
        "id": "GjU-Q_NS8UeH",
        "outputId": "434b1aa7-d8fe-46eb-f0d2-c4fcb5a1a10f"
      },
      "execution_count": 1,
      "outputs": [
        {
          "output_type": "stream",
          "name": "stdout",
          "text": [
            "hello wordl!\n"
          ]
        }
      ]
    },
    {
      "cell_type": "code",
      "source": [
        "# optional argument로 특성변경\n",
        "print(\"Hello, World\", end = \"!\")"
      ],
      "metadata": {
        "colab": {
          "base_uri": "https://localhost:8080/"
        },
        "id": "_EGn1MhD8avK",
        "outputId": "3d967d0a-0063-46de-eeef-dabe728a144c"
      },
      "execution_count": 2,
      "outputs": [
        {
          "output_type": "stream",
          "name": "stdout",
          "text": [
            "Hello, World!"
          ]
        }
      ]
    },
    {
      "cell_type": "code",
      "source": [
        "# 간단한 입력\n",
        "input_string_var = input(\"Enter some data : \")"
      ],
      "metadata": {
        "colab": {
          "base_uri": "https://localhost:8080/"
        },
        "id": "Qx-uqvfU8tzl",
        "outputId": "5ed6155a-c8c4-4d27-947f-e76176ce4f77"
      },
      "execution_count": 3,
      "outputs": [
        {
          "name": "stdout",
          "output_type": "stream",
          "text": [
            "Enter some data : hello\n"
          ]
        }
      ]
    },
    {
      "cell_type": "code",
      "source": [
        "input_string_var"
      ],
      "metadata": {
        "colab": {
          "base_uri": "https://localhost:8080/",
          "height": 35
        },
        "id": "S4Ux_r9Y86g7",
        "outputId": "ff61b1c7-9ebd-4f07-85f0-ce11bec75c88"
      },
      "execution_count": 4,
      "outputs": [
        {
          "output_type": "execute_result",
          "data": {
            "text/plain": [
              "'hello'"
            ],
            "application/vnd.google.colaboratory.intrinsic+json": {
              "type": "string"
            }
          },
          "metadata": {},
          "execution_count": 4
        }
      ]
    },
    {
      "cell_type": "code",
      "source": [
        "# 선언은 없고 할당만 있다.\n",
        "some_var = 5\n",
        "some_var"
      ],
      "metadata": {
        "colab": {
          "base_uri": "https://localhost:8080/"
        },
        "id": "i6gK_NCz88qU",
        "outputId": "e6ae02ed-8d2a-4acb-bde2-83e3ce919618"
      },
      "execution_count": 5,
      "outputs": [
        {
          "output_type": "execute_result",
          "data": {
            "text/plain": [
              "5"
            ]
          },
          "metadata": {},
          "execution_count": 5
        }
      ]
    },
    {
      "cell_type": "code",
      "source": [
        "# 할당되지 않은 변수의 접근은 예외이다.\n",
        "some_unknown"
      ],
      "metadata": {
        "colab": {
          "base_uri": "https://localhost:8080/",
          "height": 190
        },
        "id": "vKQIJi-l9ZEd",
        "outputId": "0099b5ac-3978-4397-a7a4-6a31b2a0cdb9"
      },
      "execution_count": 6,
      "outputs": [
        {
          "output_type": "error",
          "ename": "NameError",
          "evalue": "ignored",
          "traceback": [
            "\u001b[0;31m---------------------------------------------------------------------------\u001b[0m",
            "\u001b[0;31mNameError\u001b[0m                                 Traceback (most recent call last)",
            "\u001b[0;32m<ipython-input-6-fba85891b516>\u001b[0m in \u001b[0;36m<module>\u001b[0;34m\u001b[0m\n\u001b[1;32m      1\u001b[0m \u001b[0;31m# 할당되지 않은 변수의 접근은 예외이다.\u001b[0m\u001b[0;34m\u001b[0m\u001b[0;34m\u001b[0m\u001b[0m\n\u001b[0;32m----> 2\u001b[0;31m \u001b[0msome_unknown\u001b[0m\u001b[0;34m\u001b[0m\u001b[0;34m\u001b[0m\u001b[0m\n\u001b[0m",
            "\u001b[0;31mNameError\u001b[0m: name 'some_unknown' is not defined"
          ]
        }
      ]
    },
    {
      "cell_type": "code",
      "source": [
        "# if는 표현으로 사용할 수 있다. C언어의 '?:' 연산\n",
        "\"C\" if 0>1 else \"python\""
      ],
      "metadata": {
        "colab": {
          "base_uri": "https://localhost:8080/",
          "height": 35
        },
        "id": "G_LDzWRu9pc-",
        "outputId": "78b72a6d-5390-47fb-cd2b-3021ff6863fe"
      },
      "execution_count": 7,
      "outputs": [
        {
          "output_type": "execute_result",
          "data": {
            "text/plain": [
              "'python'"
            ],
            "application/vnd.google.colaboratory.intrinsic+json": {
              "type": "string"
            }
          },
          "metadata": {},
          "execution_count": 7
        }
      ]
    },
    {
      "cell_type": "code",
      "source": [
        "# List는 순서를 저장한다.\n",
        "li = []\n",
        "other_li = [4, 5, 6]"
      ],
      "metadata": {
        "id": "W3cnFsmD9_bu"
      },
      "execution_count": 8,
      "outputs": []
    },
    {
      "cell_type": "code",
      "source": [
        "# List는 .append를 사용하여 요소를 추가할 수 있다.\n",
        "li.append(1)\n",
        "li.append(2)\n",
        "li.append(3)\n",
        "li.append(4)\n",
        "li"
      ],
      "metadata": {
        "colab": {
          "base_uri": "https://localhost:8080/"
        },
        "id": "jsqbBRPM-Lgx",
        "outputId": "185abe6d-bc6e-4bda-8928-66720a3c3a1f"
      },
      "execution_count": 9,
      "outputs": [
        {
          "output_type": "execute_result",
          "data": {
            "text/plain": [
              "[1, 2, 3, 4]"
            ]
          },
          "metadata": {},
          "execution_count": 9
        }
      ]
    },
    {
      "cell_type": "code",
      "source": [
        "# LIst는 .pop을 사용하여 끝의 요소를 제거할 수 있다.\n",
        "li.pop()\n",
        "li"
      ],
      "metadata": {
        "colab": {
          "base_uri": "https://localhost:8080/"
        },
        "id": "Dq9V2tXL-dxF",
        "outputId": "2b22c5bd-71c0-4d4f-900f-308166a25e04"
      },
      "execution_count": 10,
      "outputs": [
        {
          "output_type": "execute_result",
          "data": {
            "text/plain": [
              "[1, 2, 3]"
            ]
          },
          "metadata": {},
          "execution_count": 10
        }
      ]
    },
    {
      "cell_type": "code",
      "source": [
        "# 배열처럼 List의 요소에 접근할 수 있다.\n",
        "li[0]\n",
        "li[-1]"
      ],
      "metadata": {
        "colab": {
          "base_uri": "https://localhost:8080/"
        },
        "id": "C1aZkGYa-jkI",
        "outputId": "f5da045e-afeb-4259-e164-54b9ad4c6bc2"
      },
      "execution_count": 12,
      "outputs": [
        {
          "output_type": "execute_result",
          "data": {
            "text/plain": [
              "3"
            ]
          },
          "metadata": {},
          "execution_count": 12
        }
      ]
    },
    {
      "cell_type": "code",
      "source": [
        "# 범위를 벗어나면 에러가 발생한다.\n",
        "li[4]"
      ],
      "metadata": {
        "colab": {
          "base_uri": "https://localhost:8080/",
          "height": 190
        },
        "id": "Fcy6TDBK-wam",
        "outputId": "bd22bd86-a92e-4353-85ec-b64c84984f1f"
      },
      "execution_count": 13,
      "outputs": [
        {
          "output_type": "error",
          "ename": "IndexError",
          "evalue": "ignored",
          "traceback": [
            "\u001b[0;31m---------------------------------------------------------------------------\u001b[0m",
            "\u001b[0;31mIndexError\u001b[0m                                Traceback (most recent call last)",
            "\u001b[0;32m<ipython-input-13-3cf276186b06>\u001b[0m in \u001b[0;36m<module>\u001b[0;34m\u001b[0m\n\u001b[1;32m      1\u001b[0m \u001b[0;31m# 범위를 벗어나면 에러가 발생한다.\u001b[0m\u001b[0;34m\u001b[0m\u001b[0;34m\u001b[0m\u001b[0m\n\u001b[0;32m----> 2\u001b[0;31m \u001b[0mli\u001b[0m\u001b[0;34m[\u001b[0m\u001b[0;36m4\u001b[0m\u001b[0;34m]\u001b[0m\u001b[0;34m\u001b[0m\u001b[0;34m\u001b[0m\u001b[0m\n\u001b[0m",
            "\u001b[0;31mIndexError\u001b[0m: list index out of range"
          ]
        }
      ]
    },
    {
      "cell_type": "code",
      "source": [
        "# LIst는 ':'로 슬라이스 할 수 있다.\n",
        "li[0:2] #1 2 | 시작은 포함, 끝은 미포함\n",
        "li[0:4] #1 2 3 | 범위 밖은 무시\n",
        "li[:2] #1 2 | 처음부터 [1]까지\n",
        "li[1:] # 2 3 | [1]부터 마지막까지\n",
        "li[::2] # 1 3 | [1, 3, 5, 7, ...] 목록\n",
        "li[::-1] # 3 2 1 | 뒤집힌 리스트\n",
        "# li[start:end:step]"
      ],
      "metadata": {
        "colab": {
          "base_uri": "https://localhost:8080/"
        },
        "id": "NACpNSF8-6aW",
        "outputId": "e9e5d832-c0e5-4d64-c0fe-856104d24253"
      },
      "execution_count": 22,
      "outputs": [
        {
          "output_type": "execute_result",
          "data": {
            "text/plain": [
              "[3, 2, 1]"
            ]
          },
          "metadata": {},
          "execution_count": 22
        }
      ]
    },
    {
      "cell_type": "code",
      "source": [
        "# deep copy\n",
        "li2 = li[:]\n",
        "li2 == li #True\n",
        "li2 is li #False"
      ],
      "metadata": {
        "colab": {
          "base_uri": "https://localhost:8080/"
        },
        "id": "qmI2et_yA_FB",
        "outputId": "05a87b41-d88d-4556-a19e-8f5a3c411f16"
      },
      "execution_count": 24,
      "outputs": [
        {
          "output_type": "execute_result",
          "data": {
            "text/plain": [
              "False"
            ]
          },
          "metadata": {},
          "execution_count": 24
        }
      ]
    },
    {
      "cell_type": "code",
      "source": [
        "# List의 특정 요소 제거\n",
        "del li[1]\n",
        "li"
      ],
      "metadata": {
        "colab": {
          "base_uri": "https://localhost:8080/"
        },
        "id": "ZpyDxDzCCDxd",
        "outputId": "2b5616ce-d499-48ff-df19-427645a1faf8"
      },
      "execution_count": 32,
      "outputs": [
        {
          "output_type": "execute_result",
          "data": {
            "text/plain": [
              "[1, 3]"
            ]
          },
          "metadata": {},
          "execution_count": 32
        }
      ]
    },
    {
      "cell_type": "code",
      "source": [
        "li.remove(1)\n",
        "li"
      ],
      "metadata": {
        "colab": {
          "base_uri": "https://localhost:8080/"
        },
        "id": "uCYWkt6IGJhZ",
        "outputId": "768eb0c6-6cc0-4fe6-a243-61da77286858"
      },
      "execution_count": 33,
      "outputs": [
        {
          "output_type": "execute_result",
          "data": {
            "text/plain": [
              "[3]"
            ]
          },
          "metadata": {},
          "execution_count": 33
        }
      ]
    },
    {
      "cell_type": "code",
      "source": [
        "# List의 특정 위치에 요소 추가\n",
        "li.insert(0, 1)\n",
        "li"
      ],
      "metadata": {
        "colab": {
          "base_uri": "https://localhost:8080/"
        },
        "id": "Uch_pvhkGXqN",
        "outputId": "1c442182-fdb3-424d-a949-ad22c553d569"
      },
      "execution_count": 34,
      "outputs": [
        {
          "output_type": "execute_result",
          "data": {
            "text/plain": [
              "[1, 3]"
            ]
          },
          "metadata": {},
          "execution_count": 34
        }
      ]
    },
    {
      "cell_type": "code",
      "source": [
        "# LIst의 특정 요소 위치 찾기\n",
        "li.index(3)"
      ],
      "metadata": {
        "colab": {
          "base_uri": "https://localhost:8080/"
        },
        "id": "rGyP97xSG4Vv",
        "outputId": "fbd44164-3fcf-483a-ed8f-01f5d4f3b859"
      },
      "execution_count": 35,
      "outputs": [
        {
          "output_type": "execute_result",
          "data": {
            "text/plain": [
              "1"
            ]
          },
          "metadata": {},
          "execution_count": 35
        }
      ]
    },
    {
      "cell_type": "code",
      "source": [
        "# List 덧셈 가능\n",
        "li + other_li"
      ],
      "metadata": {
        "colab": {
          "base_uri": "https://localhost:8080/"
        },
        "id": "nikJv6IVHRwZ",
        "outputId": "8c992290-1d15-4488-eb47-e13288cf1473"
      },
      "execution_count": 36,
      "outputs": [
        {
          "output_type": "execute_result",
          "data": {
            "text/plain": [
              "[1, 3, 4, 5, 6]"
            ]
          },
          "metadata": {},
          "execution_count": 36
        }
      ]
    },
    {
      "cell_type": "code",
      "source": [
        "# List 접합은 'extend()'\n",
        "li.extend(other_li)\n",
        "li"
      ],
      "metadata": {
        "colab": {
          "base_uri": "https://localhost:8080/"
        },
        "id": "X48mQVhGHeCW",
        "outputId": "65ddae82-2330-40ae-f8e2-d8d64621c93c"
      },
      "execution_count": 37,
      "outputs": [
        {
          "output_type": "execute_result",
          "data": {
            "text/plain": [
              "[1, 3, 4, 5, 6]"
            ]
          },
          "metadata": {},
          "execution_count": 37
        }
      ]
    },
    {
      "cell_type": "code",
      "source": [
        "# List 요소 체크\n",
        "1 in li"
      ],
      "metadata": {
        "colab": {
          "base_uri": "https://localhost:8080/"
        },
        "id": "C2JTaT3CHuFy",
        "outputId": "49862c49-ae42-401c-d190-642d22b86498"
      },
      "execution_count": 38,
      "outputs": [
        {
          "output_type": "execute_result",
          "data": {
            "text/plain": [
              "True"
            ]
          },
          "metadata": {},
          "execution_count": 38
        }
      ]
    },
    {
      "cell_type": "code",
      "source": [
        "# List 요소 갯수\n",
        "len(li)"
      ],
      "metadata": {
        "colab": {
          "base_uri": "https://localhost:8080/"
        },
        "id": "S0RQ1gf8IBYi",
        "outputId": "95c9d08b-7ab2-4082-e919-d2604762d655"
      },
      "execution_count": 39,
      "outputs": [
        {
          "output_type": "execute_result",
          "data": {
            "text/plain": [
              "5"
            ]
          },
          "metadata": {},
          "execution_count": 39
        }
      ]
    },
    {
      "cell_type": "code",
      "source": [
        "# Tuple은 List와 비슷하지만, 변경이 불가능하다.\n",
        "tup = (1, 2, 3)\n",
        "tup[0] = 3"
      ],
      "metadata": {
        "colab": {
          "base_uri": "https://localhost:8080/",
          "height": 209
        },
        "id": "ZoY4qg7AIH-l",
        "outputId": "f8b3b2f1-70ed-43cc-fdc7-7f46bed18f7a"
      },
      "execution_count": 40,
      "outputs": [
        {
          "output_type": "error",
          "ename": "TypeError",
          "evalue": "ignored",
          "traceback": [
            "\u001b[0;31m---------------------------------------------------------------------------\u001b[0m",
            "\u001b[0;31mTypeError\u001b[0m                                 Traceback (most recent call last)",
            "\u001b[0;32m<ipython-input-40-51849d31ef01>\u001b[0m in \u001b[0;36m<module>\u001b[0;34m\u001b[0m\n\u001b[1;32m      1\u001b[0m \u001b[0;31m# Tuple은 List와 비슷하지만, 변경이 불가능하다.\u001b[0m\u001b[0;34m\u001b[0m\u001b[0;34m\u001b[0m\u001b[0m\n\u001b[1;32m      2\u001b[0m \u001b[0mtup\u001b[0m \u001b[0;34m=\u001b[0m \u001b[0;34m(\u001b[0m\u001b[0;36m1\u001b[0m\u001b[0;34m,\u001b[0m \u001b[0;36m2\u001b[0m\u001b[0;34m,\u001b[0m \u001b[0;36m3\u001b[0m\u001b[0;34m)\u001b[0m\u001b[0;34m\u001b[0m\u001b[0;34m\u001b[0m\u001b[0m\n\u001b[0;32m----> 3\u001b[0;31m \u001b[0mtup\u001b[0m\u001b[0;34m[\u001b[0m\u001b[0;36m0\u001b[0m\u001b[0;34m]\u001b[0m \u001b[0;34m=\u001b[0m \u001b[0;36m3\u001b[0m\u001b[0;34m\u001b[0m\u001b[0;34m\u001b[0m\u001b[0m\n\u001b[0m",
            "\u001b[0;31mTypeError\u001b[0m: 'tuple' object does not support item assignment"
          ]
        }
      ]
    },
    {
      "cell_type": "code",
      "source": [
        "type((1)) # int\n",
        "type((1,)) # tuple\n",
        "type(()) # tuple"
      ],
      "metadata": {
        "colab": {
          "base_uri": "https://localhost:8080/"
        },
        "id": "DJ6EXsjdIt2X",
        "outputId": "b853764f-38a5-4341-f397-ea627c16d948"
      },
      "execution_count": 41,
      "outputs": [
        {
          "output_type": "execute_result",
          "data": {
            "text/plain": [
              "tuple"
            ]
          },
          "metadata": {},
          "execution_count": 41
        }
      ]
    },
    {
      "cell_type": "code",
      "source": [
        "# Tuple은 대부분의 List에서 사용되는 연산 사용가능\n",
        "len(tup) # 3\n",
        "tup + (4,5,6) # (1, 2, 3, 4, 5, 6)\n",
        "tup[:2] # (1, 2)\n",
        "2 in tup"
      ],
      "metadata": {
        "colab": {
          "base_uri": "https://localhost:8080/"
        },
        "id": "__gVPL24JOwf",
        "outputId": "a2fe5c36-f0de-4f1f-bde7-6efbf64bc328"
      },
      "execution_count": 42,
      "outputs": [
        {
          "output_type": "execute_result",
          "data": {
            "text/plain": [
              "True"
            ]
          },
          "metadata": {},
          "execution_count": 42
        }
      ]
    },
    {
      "cell_type": "code",
      "source": [
        "# Tuple 이나 List는 언팩할 수 있다.\n",
        "a, b, c = tup\n",
        "a"
      ],
      "metadata": {
        "colab": {
          "base_uri": "https://localhost:8080/"
        },
        "id": "y2uKZWViJxbQ",
        "outputId": "bc382711-5131-4212-9f34-b776fc7eeba0"
      },
      "execution_count": 46,
      "outputs": [
        {
          "output_type": "execute_result",
          "data": {
            "text/plain": [
              "1"
            ]
          },
          "metadata": {},
          "execution_count": 46
        }
      ]
    },
    {
      "cell_type": "code",
      "source": [
        "a, *b, c = (1, 2, 3, 4)\n",
        "b"
      ],
      "metadata": {
        "colab": {
          "base_uri": "https://localhost:8080/"
        },
        "id": "4Qnk-L8LKxRY",
        "outputId": "f41e4c0e-194a-4d86-c3cf-c97eaf3d981e"
      },
      "execution_count": 48,
      "outputs": [
        {
          "output_type": "execute_result",
          "data": {
            "text/plain": [
              "[2, 3]"
            ]
          },
          "metadata": {},
          "execution_count": 48
        }
      ]
    },
    {
      "cell_type": "code",
      "source": [
        "a, c = c, a\n",
        "a"
      ],
      "metadata": {
        "colab": {
          "base_uri": "https://localhost:8080/"
        },
        "id": "2Dwq3x2ZK6up",
        "outputId": "dac88f1f-4ac9-49f7-f9a4-968d8dc6384b"
      },
      "execution_count": 49,
      "outputs": [
        {
          "output_type": "execute_result",
          "data": {
            "text/plain": [
              "4"
            ]
          },
          "metadata": {},
          "execution_count": 49
        }
      ]
    },
    {
      "cell_type": "code",
      "source": [
        "# Dictionary는 Key와 Value로 저장된다.\n",
        "dict = {}\n",
        "filled_dict = {\"one\":1, \"two\":2, \"three\":3}"
      ],
      "metadata": {
        "id": "G655-QTvLUc6"
      },
      "execution_count": 53,
      "outputs": []
    },
    {
      "cell_type": "code",
      "source": [
        "# Key는 변경불가능하고, int, float, string, tuple 타입을 가진다.\n",
        "invalid_dict = {[1,2,3] : \"123\"}\n",
        "valid_dict = {(1,2,3) : [1,2,3]}"
      ],
      "metadata": {
        "colab": {
          "base_uri": "https://localhost:8080/",
          "height": 209
        },
        "id": "upJfIco9L1vT",
        "outputId": "47169980-c3ad-4b49-b25a-5dc642718694"
      },
      "execution_count": 51,
      "outputs": [
        {
          "output_type": "error",
          "ename": "TypeError",
          "evalue": "ignored",
          "traceback": [
            "\u001b[0;31m---------------------------------------------------------------------------\u001b[0m",
            "\u001b[0;31mTypeError\u001b[0m                                 Traceback (most recent call last)",
            "\u001b[0;32m<ipython-input-51-a8f84d38dbce>\u001b[0m in \u001b[0;36m<module>\u001b[0;34m\u001b[0m\n\u001b[1;32m      1\u001b[0m \u001b[0;31m# Key는 변경불가능하고, int, float, string, tuple 타입을 가진다.\u001b[0m\u001b[0;34m\u001b[0m\u001b[0;34m\u001b[0m\u001b[0m\n\u001b[0;32m----> 2\u001b[0;31m \u001b[0minvalid_dict\u001b[0m \u001b[0;34m=\u001b[0m \u001b[0;34m{\u001b[0m\u001b[0;34m[\u001b[0m\u001b[0;36m1\u001b[0m\u001b[0;34m,\u001b[0m\u001b[0;36m2\u001b[0m\u001b[0;34m,\u001b[0m\u001b[0;36m3\u001b[0m\u001b[0;34m]\u001b[0m \u001b[0;34m:\u001b[0m \u001b[0;34m\"123\"\u001b[0m\u001b[0;34m}\u001b[0m\u001b[0;34m\u001b[0m\u001b[0;34m\u001b[0m\u001b[0m\n\u001b[0m\u001b[1;32m      3\u001b[0m \u001b[0mvalid_dict\u001b[0m \u001b[0;34m=\u001b[0m \u001b[0;34m{\u001b[0m\u001b[0;34m(\u001b[0m\u001b[0;36m1\u001b[0m\u001b[0;34m,\u001b[0m\u001b[0;36m2\u001b[0m\u001b[0;34m,\u001b[0m\u001b[0;36m3\u001b[0m\u001b[0;34m)\u001b[0m \u001b[0;34m:\u001b[0m \u001b[0;34m[\u001b[0m\u001b[0;36m1\u001b[0m\u001b[0;34m,\u001b[0m\u001b[0;36m2\u001b[0m\u001b[0;34m,\u001b[0m\u001b[0;36m3\u001b[0m\u001b[0;34m]\u001b[0m\u001b[0;34m}\u001b[0m\u001b[0;34m\u001b[0m\u001b[0;34m\u001b[0m\u001b[0m\n",
            "\u001b[0;31mTypeError\u001b[0m: unhashable type: 'list'"
          ]
        }
      ]
    },
    {
      "cell_type": "code",
      "source": [
        "# key를 사용해 Value를 찾을 수 있다.\n",
        "filled_dict[\"one\"]"
      ],
      "metadata": {
        "colab": {
          "base_uri": "https://localhost:8080/"
        },
        "id": "JCBUZ85qMQ1h",
        "outputId": "a76e0864-07bb-4a50-bfa8-f61397c7d342"
      },
      "execution_count": 54,
      "outputs": [
        {
          "output_type": "execute_result",
          "data": {
            "text/plain": [
              "1"
            ]
          },
          "metadata": {},
          "execution_count": 54
        }
      ]
    },
    {
      "cell_type": "code",
      "source": [
        "# keys()를 통해 Dictionary의 모든 Key를 찾을 수 있다.\n",
        "# List형태로 모아 저장 가능하다.\n",
        "list(filled_dict.keys())"
      ],
      "metadata": {
        "colab": {
          "base_uri": "https://localhost:8080/"
        },
        "id": "665gWYPpMqQh",
        "outputId": "6c8a0f30-d3a8-4983-d61a-a156f1c2bd56"
      },
      "execution_count": 55,
      "outputs": [
        {
          "output_type": "execute_result",
          "data": {
            "text/plain": [
              "['one', 'two', 'three']"
            ]
          },
          "metadata": {},
          "execution_count": 55
        }
      ]
    },
    {
      "cell_type": "code",
      "source": [
        "# Key 요소 체크 'in'\n",
        "\"one\" in filled_dict # True\n",
        "1 in filled_dict"
      ],
      "metadata": {
        "colab": {
          "base_uri": "https://localhost:8080/"
        },
        "id": "Jdkg0c6VNHvQ",
        "outputId": "66cf6dcb-eb8e-43b7-b583-07730101674f"
      },
      "execution_count": 56,
      "outputs": [
        {
          "output_type": "execute_result",
          "data": {
            "text/plain": [
              "False"
            ]
          },
          "metadata": {},
          "execution_count": 56
        }
      ]
    },
    {
      "cell_type": "code",
      "source": [
        "# Dict 요소 접근\n",
        "filled_dict[\"four\"] # Key error\n",
        "filled_dict.get(\"four\") # None -> error 방지"
      ],
      "metadata": {
        "colab": {
          "base_uri": "https://localhost:8080/",
          "height": 209
        },
        "id": "piQeqd32N27f",
        "outputId": "07a5102f-209b-432a-e44d-a2ab3023e3e8"
      },
      "execution_count": 57,
      "outputs": [
        {
          "output_type": "error",
          "ename": "KeyError",
          "evalue": "ignored",
          "traceback": [
            "\u001b[0;31m---------------------------------------------------------------------------\u001b[0m",
            "\u001b[0;31mKeyError\u001b[0m                                  Traceback (most recent call last)",
            "\u001b[0;32m<ipython-input-57-669c025f3fd2>\u001b[0m in \u001b[0;36m<module>\u001b[0;34m\u001b[0m\n\u001b[1;32m      1\u001b[0m \u001b[0;31m# Dict 요소 접근\u001b[0m\u001b[0;34m\u001b[0m\u001b[0;34m\u001b[0m\u001b[0m\n\u001b[0;32m----> 2\u001b[0;31m \u001b[0mfilled_dict\u001b[0m\u001b[0;34m[\u001b[0m\u001b[0;34m\"four\"\u001b[0m\u001b[0;34m]\u001b[0m \u001b[0;31m# Key error\u001b[0m\u001b[0;34m\u001b[0m\u001b[0;34m\u001b[0m\u001b[0m\n\u001b[0m\u001b[1;32m      3\u001b[0m \u001b[0mfilled_dict\u001b[0m\u001b[0;34m.\u001b[0m\u001b[0mget\u001b[0m\u001b[0;34m(\u001b[0m\u001b[0;34m\"four\"\u001b[0m\u001b[0;34m)\u001b[0m \u001b[0;31m# None -> error 방지\u001b[0m\u001b[0;34m\u001b[0m\u001b[0;34m\u001b[0m\u001b[0m\n",
            "\u001b[0;31mKeyError\u001b[0m: 'four'"
          ]
        }
      ]
    },
    {
      "cell_type": "code",
      "source": [
        "# get은 default 값을 지원한다.\n",
        "filled_dict.get(\"four\", 4)"
      ],
      "metadata": {
        "colab": {
          "base_uri": "https://localhost:8080/"
        },
        "id": "GS_M221fOUGw",
        "outputId": "dad08405-be2a-4ca5-b7f6-fdc80d6552cf"
      },
      "execution_count": 58,
      "outputs": [
        {
          "output_type": "execute_result",
          "data": {
            "text/plain": [
              "4"
            ]
          },
          "metadata": {},
          "execution_count": 58
        }
      ]
    },
    {
      "cell_type": "code",
      "source": [
        "# 'setdefalut()' 는 지정되지 않은 Key의 Value를 지정한다.\n",
        "filled_dict.setdefault(\"four\", 4)\n",
        "filled_dict.setdefault(\"four\", 5) # 변동 없다.\n",
        "filled_dict.get(\"four\")"
      ],
      "metadata": {
        "colab": {
          "base_uri": "https://localhost:8080/"
        },
        "id": "N5dceEYuOiFZ",
        "outputId": "d0a9f4a1-0c67-41db-8bf9-4795220012a6"
      },
      "execution_count": 59,
      "outputs": [
        {
          "output_type": "execute_result",
          "data": {
            "text/plain": [
              "4"
            ]
          },
          "metadata": {},
          "execution_count": 59
        }
      ]
    },
    {
      "cell_type": "code",
      "source": [
        "# Dictionary 요소 추가\n",
        "filled_dict.update({\"five\" : 5})\n",
        "filled_dict[\"six\"] = 6\n",
        "filled_dict"
      ],
      "metadata": {
        "colab": {
          "base_uri": "https://localhost:8080/"
        },
        "id": "nEkEhSEnPFH_",
        "outputId": "2fe556a4-673f-43b2-aa2b-f43212c3a666"
      },
      "execution_count": 61,
      "outputs": [
        {
          "output_type": "execute_result",
          "data": {
            "text/plain": [
              "{'one': 1, 'two': 2, 'three': 3, 'four': 4, 'five': 5, 'six': 6}"
            ]
          },
          "metadata": {},
          "execution_count": 61
        }
      ]
    },
    {
      "cell_type": "code",
      "source": [
        "# 'del'로 요소 제거\n",
        "del filled_dict[\"one\"]\n",
        "filled_dict"
      ],
      "metadata": {
        "colab": {
          "base_uri": "https://localhost:8080/"
        },
        "id": "2PksTBJ2PVks",
        "outputId": "61461b8c-8d74-4244-e871-576ef55959b4"
      },
      "execution_count": 62,
      "outputs": [
        {
          "output_type": "execute_result",
          "data": {
            "text/plain": [
              "{'two': 2, 'three': 3, 'four': 4, 'five': 5, 'six': 6}"
            ]
          },
          "metadata": {},
          "execution_count": 62
        }
      ]
    },
    {
      "cell_type": "code",
      "source": [
        "# set\n",
        "empty_set = set()\n",
        "some_set = {1, 1, 2, 2, 3, 4}\n",
        "some_set"
      ],
      "metadata": {
        "colab": {
          "base_uri": "https://localhost:8080/"
        },
        "id": "QUGbE5KBPd5C",
        "outputId": "964498e5-6f05-4ab1-c5fb-084fee2a16da"
      },
      "execution_count": 63,
      "outputs": [
        {
          "output_type": "execute_result",
          "data": {
            "text/plain": [
              "{1, 2, 3, 4}"
            ]
          },
          "metadata": {},
          "execution_count": 63
        }
      ]
    },
    {
      "cell_type": "code",
      "source": [
        "# Dictionary와 유사하게 요소가 변경 불가능하고, List를 사용할 수 없다.\n",
        "invalid_set = {[1], 1}\n",
        "valid_set = {(1,), 1}"
      ],
      "metadata": {
        "colab": {
          "base_uri": "https://localhost:8080/",
          "height": 209
        },
        "id": "69uW8N2EQaME",
        "outputId": "2de3d037-6c43-49c5-dcaf-43481a6ab176"
      },
      "execution_count": 64,
      "outputs": [
        {
          "output_type": "error",
          "ename": "TypeError",
          "evalue": "ignored",
          "traceback": [
            "\u001b[0;31m---------------------------------------------------------------------------\u001b[0m",
            "\u001b[0;31mTypeError\u001b[0m                                 Traceback (most recent call last)",
            "\u001b[0;32m<ipython-input-64-545f98d873a7>\u001b[0m in \u001b[0;36m<module>\u001b[0;34m\u001b[0m\n\u001b[1;32m      1\u001b[0m \u001b[0;31m# Dictionary와 유사하게 요소가 변경 불가능하고, List를 사용할 수 없다.\u001b[0m\u001b[0;34m\u001b[0m\u001b[0;34m\u001b[0m\u001b[0m\n\u001b[0;32m----> 2\u001b[0;31m \u001b[0minvalid_set\u001b[0m \u001b[0;34m=\u001b[0m \u001b[0;34m{\u001b[0m\u001b[0;34m[\u001b[0m\u001b[0;36m1\u001b[0m\u001b[0;34m]\u001b[0m\u001b[0;34m,\u001b[0m \u001b[0;36m1\u001b[0m\u001b[0;34m}\u001b[0m\u001b[0;34m\u001b[0m\u001b[0;34m\u001b[0m\u001b[0m\n\u001b[0m\u001b[1;32m      3\u001b[0m \u001b[0mvalid_set\u001b[0m \u001b[0;34m=\u001b[0m \u001b[0;34m{\u001b[0m\u001b[0;34m(\u001b[0m\u001b[0;36m1\u001b[0m\u001b[0;34m,\u001b[0m\u001b[0;34m)\u001b[0m\u001b[0;34m,\u001b[0m \u001b[0;36m1\u001b[0m\u001b[0;34m}\u001b[0m\u001b[0;34m\u001b[0m\u001b[0;34m\u001b[0m\u001b[0m\n",
            "\u001b[0;31mTypeError\u001b[0m: unhashable type: 'list'"
          ]
        }
      ]
    },
    {
      "cell_type": "code",
      "source": [
        "# 요소 추가. set은 중복 요소를 가지지 못한다.\n",
        "filled_set = some_set\n",
        "filled_set.add(5)\n",
        "filled_set.add(5)\n",
        "filled_set"
      ],
      "metadata": {
        "colab": {
          "base_uri": "https://localhost:8080/"
        },
        "id": "ALJJ06zBRGKZ",
        "outputId": "ddc63f92-8fe0-42a1-975a-96f74eb355e0"
      },
      "execution_count": 66,
      "outputs": [
        {
          "output_type": "execute_result",
          "data": {
            "text/plain": [
              "{1, 2, 3, 4, 5}"
            ]
          },
          "metadata": {},
          "execution_count": 66
        }
      ]
    },
    {
      "cell_type": "code",
      "source": [
        "# set간 교집합 연산\n",
        "other_set = {3, 4, 5, 6}\n",
        "filled_set & other_set"
      ],
      "metadata": {
        "colab": {
          "base_uri": "https://localhost:8080/"
        },
        "id": "-5OnBwy-RccM",
        "outputId": "0d4375b1-59d6-483f-e18c-21bb0b0cc49e"
      },
      "execution_count": 68,
      "outputs": [
        {
          "output_type": "execute_result",
          "data": {
            "text/plain": [
              "{3, 4, 5}"
            ]
          },
          "metadata": {},
          "execution_count": 68
        }
      ]
    },
    {
      "cell_type": "code",
      "source": [
        "# set간 합집합 연산\n",
        "filled_set | other_set"
      ],
      "metadata": {
        "colab": {
          "base_uri": "https://localhost:8080/"
        },
        "id": "NSKNO7EdRqUR",
        "outputId": "6ba81f93-2b51-495e-8a78-8048b32bc8db"
      },
      "execution_count": 69,
      "outputs": [
        {
          "output_type": "execute_result",
          "data": {
            "text/plain": [
              "{1, 2, 3, 4, 5, 6}"
            ]
          },
          "metadata": {},
          "execution_count": 69
        }
      ]
    },
    {
      "cell_type": "code",
      "source": [
        "# set간 차집합 연산\n",
        "filled_set - {2, 3, 4, 6}"
      ],
      "metadata": {
        "colab": {
          "base_uri": "https://localhost:8080/"
        },
        "id": "W-iArGVgR0cV",
        "outputId": "2499f9e8-64fe-49e7-8b8b-b09389e4698e"
      },
      "execution_count": 70,
      "outputs": [
        {
          "output_type": "execute_result",
          "data": {
            "text/plain": [
              "{1, 5}"
            ]
          },
          "metadata": {},
          "execution_count": 70
        }
      ]
    },
    {
      "cell_type": "code",
      "source": [
        "# set간 교집합 나머지 연산\n",
        "filled_set ^ {2, 3, 4, 6}"
      ],
      "metadata": {
        "colab": {
          "base_uri": "https://localhost:8080/"
        },
        "id": "uRVqxEMXR8uB",
        "outputId": "247a29ae-ae4f-4d0d-d217-68a28a541639"
      },
      "execution_count": 71,
      "outputs": [
        {
          "output_type": "execute_result",
          "data": {
            "text/plain": [
              "{1, 5, 6}"
            ]
          },
          "metadata": {},
          "execution_count": 71
        }
      ]
    },
    {
      "cell_type": "code",
      "source": [
        "# 비교는 요소 갯수\n",
        "{4, 5} >= {1, 2, 3}"
      ],
      "metadata": {
        "colab": {
          "base_uri": "https://localhost:8080/"
        },
        "id": "hEC0MEj9SFUQ",
        "outputId": "2202cfb8-ec33-4d0d-8e0a-a456226ae17b"
      },
      "execution_count": 72,
      "outputs": [
        {
          "output_type": "execute_result",
          "data": {
            "text/plain": [
              "False"
            ]
          },
          "metadata": {},
          "execution_count": 72
        }
      ]
    },
    {
      "cell_type": "code",
      "source": [
        "# Check\n",
        "2 in filled_set"
      ],
      "metadata": {
        "colab": {
          "base_uri": "https://localhost:8080/"
        },
        "id": "TQMzO3NnTCvJ",
        "outputId": "4461fbae-f548-4beb-bec9-ebef784f75bf"
      },
      "execution_count": 73,
      "outputs": [
        {
          "output_type": "execute_result",
          "data": {
            "text/plain": [
              "True"
            ]
          },
          "metadata": {},
          "execution_count": 73
        }
      ]
    },
    {
      "cell_type": "code",
      "source": [
        "# Deep copy\n",
        "filled_set = some_set.copy()\n",
        "filled_set is some_set"
      ],
      "metadata": {
        "colab": {
          "base_uri": "https://localhost:8080/"
        },
        "id": "Ezh488C3TUw_",
        "outputId": "44ab0953-8d9e-4f2c-d305-4c3fd97fa13b"
      },
      "execution_count": 74,
      "outputs": [
        {
          "output_type": "execute_result",
          "data": {
            "text/plain": [
              "False"
            ]
          },
          "metadata": {},
          "execution_count": 74
        }
      ]
    },
    {
      "cell_type": "code",
      "source": [
        "#######################################\n",
        "## 3. 반복문 및 이터러블\n",
        "#######################################"
      ],
      "metadata": {
        "id": "Ytx_GpKITjuG"
      },
      "execution_count": null,
      "outputs": []
    },
    {
      "cell_type": "code",
      "source": [
        "# if - else 문\n",
        "some_var = 5\n",
        "if some_var > 10:\n",
        "  print(\"Var > 10\")\n",
        "elif some_var < 10:\n",
        "  print(\"Var < 10\")\n",
        "else:\n",
        "  print(\"Var = 10\")"
      ],
      "metadata": {
        "colab": {
          "base_uri": "https://localhost:8080/"
        },
        "id": "4SsTRgcuUGoc",
        "outputId": "121de776-d6b7-4bdb-f790-ebabef9ac6ae"
      },
      "execution_count": 75,
      "outputs": [
        {
          "output_type": "stream",
          "name": "stdout",
          "text": [
            "Var < 10\n"
          ]
        }
      ]
    },
    {
      "cell_type": "code",
      "source": [
        "# List for 반복문\n",
        "for i, animal in enumerate([\"dog\", \"cat\", \"mouse\"]):\n",
        "  print(i, \"{} is a mamma!\".format(animal))"
      ],
      "metadata": {
        "colab": {
          "base_uri": "https://localhost:8080/"
        },
        "id": "hn4C6mOvU9q8",
        "outputId": "d8888328-643a-44cf-9442-cc6bf1090bd7"
      },
      "execution_count": 82,
      "outputs": [
        {
          "output_type": "stream",
          "name": "stdout",
          "text": [
            "0 dog is a mamma!\n",
            "1 cat is a mamma!\n",
            "2 mouse is a mamma!\n"
          ]
        }
      ]
    },
    {
      "cell_type": "code",
      "source": [
        "# for range 반복문\n",
        "for i in range(4):\n",
        "  print(i)\n",
        "# range(start, end, step)\n",
        "for i in range(4, 8, 2):\n",
        "  print(i)"
      ],
      "metadata": {
        "colab": {
          "base_uri": "https://localhost:8080/"
        },
        "id": "3Ecj12wUVi39",
        "outputId": "65b1dc41-8aa1-4c1d-b0d1-7b6b1fa40c03"
      },
      "execution_count": 78,
      "outputs": [
        {
          "output_type": "stream",
          "name": "stdout",
          "text": [
            "0\n",
            "1\n",
            "2\n",
            "3\n",
            "4\n",
            "6\n"
          ]
        }
      ]
    },
    {
      "cell_type": "code",
      "source": [
        "# while 반복문\n",
        "x = 0\n",
        "while x<4:\n",
        "  print(x)\n",
        "  x += 1"
      ],
      "metadata": {
        "colab": {
          "base_uri": "https://localhost:8080/"
        },
        "id": "7HW_Qdc8VuOK",
        "outputId": "2dd76db0-88e7-4163-9b74-8779ed083861"
      },
      "execution_count": 83,
      "outputs": [
        {
          "output_type": "stream",
          "name": "stdout",
          "text": [
            "0\n",
            "1\n",
            "2\n",
            "3\n"
          ]
        }
      ]
    },
    {
      "cell_type": "code",
      "source": [
        "# try / except block\n",
        "try:\n",
        "  raise IndexError(\"This is index error\")\n",
        "except IndexError as e:\n",
        "  pass\n",
        "except (TypeError, NameError):\n",
        "  pass\n",
        "else:\n",
        "  print(\"All good\")\n",
        "finally:\n",
        "  print(\"We can clean up resources here\")\n"
      ],
      "metadata": {
        "colab": {
          "base_uri": "https://localhost:8080/"
        },
        "id": "H8o9zNKmWcrj",
        "outputId": "d53d37e4-bec0-4b99-dbce-2ad6b7d349af"
      },
      "execution_count": 84,
      "outputs": [
        {
          "output_type": "stream",
          "name": "stdout",
          "text": [
            "We can clean up resources here\n"
          ]
        }
      ]
    },
    {
      "cell_type": "code",
      "source": [
        "with open(\"myfile.text\") as f:\n",
        "  for line in f:\n",
        "    print(line)"
      ],
      "metadata": {
        "colab": {
          "base_uri": "https://localhost:8080/",
          "height": 209
        },
        "id": "O23idEpVXscb",
        "outputId": "6dcb31f4-d340-446c-b527-0c2b4a91eb07"
      },
      "execution_count": 85,
      "outputs": [
        {
          "output_type": "error",
          "ename": "FileNotFoundError",
          "evalue": "ignored",
          "traceback": [
            "\u001b[0;31m---------------------------------------------------------------------------\u001b[0m",
            "\u001b[0;31mFileNotFoundError\u001b[0m                         Traceback (most recent call last)",
            "\u001b[0;32m<ipython-input-85-9e87da13a9d5>\u001b[0m in \u001b[0;36m<module>\u001b[0;34m\u001b[0m\n\u001b[0;32m----> 1\u001b[0;31m \u001b[0;32mwith\u001b[0m \u001b[0mopen\u001b[0m\u001b[0;34m(\u001b[0m\u001b[0;34m\"myfile.text\"\u001b[0m\u001b[0;34m)\u001b[0m \u001b[0;32mas\u001b[0m \u001b[0mf\u001b[0m\u001b[0;34m:\u001b[0m\u001b[0;34m\u001b[0m\u001b[0;34m\u001b[0m\u001b[0m\n\u001b[0m\u001b[1;32m      2\u001b[0m   \u001b[0;32mfor\u001b[0m \u001b[0mline\u001b[0m \u001b[0;32min\u001b[0m \u001b[0mf\u001b[0m\u001b[0;34m:\u001b[0m\u001b[0;34m\u001b[0m\u001b[0;34m\u001b[0m\u001b[0m\n\u001b[1;32m      3\u001b[0m     \u001b[0mprint\u001b[0m\u001b[0;34m(\u001b[0m\u001b[0mline\u001b[0m\u001b[0;34m)\u001b[0m\u001b[0;34m\u001b[0m\u001b[0;34m\u001b[0m\u001b[0m\n",
            "\u001b[0;31mFileNotFoundError\u001b[0m: [Errno 2] No such file or directory: 'myfile.text'"
          ]
        }
      ]
    },
    {
      "cell_type": "code",
      "source": [
        "# 파일 쓰기\n",
        "contents = {\"aa\":12, \"bb\":21}\n",
        "with open(\"myfile1.txt\", \"w+\") as file:\n",
        "  file.write(str(contents))"
      ],
      "metadata": {
        "id": "ZlVfE9IjX3sA"
      },
      "execution_count": 86,
      "outputs": []
    },
    {
      "cell_type": "code",
      "source": [
        "import json\n",
        "with open(\"myfile2.txt\", \"w+\") as file:\n",
        "  file.write(json.dumps(contents))"
      ],
      "metadata": {
        "id": "xWDN2lNIYR98"
      },
      "execution_count": 87,
      "outputs": []
    },
    {
      "cell_type": "code",
      "source": [
        "# 파일 읽기\n",
        "with open(\"myfile2.txt\", \"r+\") as file:\n",
        "  contents2 = file.read()\n",
        "print(contents2)"
      ],
      "metadata": {
        "colab": {
          "base_uri": "https://localhost:8080/"
        },
        "id": "meeSWzh-YfNb",
        "outputId": "103a0e40-64ca-4c78-8d31-3026ec0855c1"
      },
      "execution_count": 88,
      "outputs": [
        {
          "output_type": "stream",
          "name": "stdout",
          "text": [
            "{\"aa\": 12, \"bb\": 21}\n"
          ]
        }
      ]
    },
    {
      "cell_type": "code",
      "source": [
        "with open(\"myfile2.txt\", \"r+\") as file:\n",
        "  contents3 = json.load(file)\n",
        "print(contents3)"
      ],
      "metadata": {
        "colab": {
          "base_uri": "https://localhost:8080/"
        },
        "id": "YXfVi41auyOK",
        "outputId": "e0699290-07df-44a2-e1e9-463bc20b2b09"
      },
      "execution_count": 90,
      "outputs": [
        {
          "output_type": "stream",
          "name": "stdout",
          "text": [
            "{'aa': 12, 'bb': 21}\n"
          ]
        }
      ]
    },
    {
      "cell_type": "code",
      "source": [
        "# range 함수를 사용해서 iterable 을 제공한다.\n",
        "filled_dict = {\"one\":1, \"two\":2, \"three\":3}\n",
        "our_iterable = filled_dict.keys()\n",
        "print(our_iterable)"
      ],
      "metadata": {
        "colab": {
          "base_uri": "https://localhost:8080/"
        },
        "id": "8lnYpdUmvAgH",
        "outputId": "7cac9848-10a6-4af4-ce6a-4ae7104c1d52"
      },
      "execution_count": 2,
      "outputs": [
        {
          "output_type": "stream",
          "name": "stdout",
          "text": [
            "dict_keys(['one', 'two', 'three'])\n"
          ]
        }
      ]
    },
    {
      "cell_type": "code",
      "source": [
        "# iterable을 사용해서 반복문을 돌린다.\n",
        "for i in our_iterable:\n",
        "  print(i)"
      ],
      "metadata": {
        "colab": {
          "base_uri": "https://localhost:8080/"
        },
        "id": "5-oSmLtev2SZ",
        "outputId": "ec4def9f-983b-4620-ec6f-10a1cd650f94"
      },
      "execution_count": 92,
      "outputs": [
        {
          "output_type": "stream",
          "name": "stdout",
          "text": [
            "one\n",
            "two\n",
            "three\n"
          ]
        }
      ]
    },
    {
      "cell_type": "code",
      "source": [
        "# Dictionary key는 index로 접근이 불가능하다.\n",
        "our_iterable[1]"
      ],
      "metadata": {
        "colab": {
          "base_uri": "https://localhost:8080/",
          "height": 172
        },
        "id": "ZiVT4w0bv9_w",
        "outputId": "25d0b423-6421-4abf-fcf1-f157179e40bf"
      },
      "execution_count": 93,
      "outputs": [
        {
          "output_type": "error",
          "ename": "TypeError",
          "evalue": "ignored",
          "traceback": [
            "\u001b[0;31m---------------------------------------------------------------------------\u001b[0m",
            "\u001b[0;31mTypeError\u001b[0m                                 Traceback (most recent call last)",
            "\u001b[0;32m<ipython-input-93-c526b4194e9f>\u001b[0m in \u001b[0;36m<module>\u001b[0;34m\u001b[0m\n\u001b[0;32m----> 1\u001b[0;31m \u001b[0mour_iterable\u001b[0m\u001b[0;34m[\u001b[0m\u001b[0;36m1\u001b[0m\u001b[0;34m]\u001b[0m\u001b[0;34m\u001b[0m\u001b[0;34m\u001b[0m\u001b[0m\n\u001b[0m",
            "\u001b[0;31mTypeError\u001b[0m: 'dict_keys' object is not subscriptable"
          ]
        }
      ]
    },
    {
      "cell_type": "code",
      "source": [
        "# iterable 객체는 iterator로 만들수 있다.\n",
        "our_iterator = iter(our_iterable)\n",
        "our_iterator"
      ],
      "metadata": {
        "colab": {
          "base_uri": "https://localhost:8080/"
        },
        "id": "qVF-lFsawKLQ",
        "outputId": "2ee9e692-85b4-4d0a-93c1-38bfe56a3835"
      },
      "execution_count": 4,
      "outputs": [
        {
          "output_type": "execute_result",
          "data": {
            "text/plain": [
              "<dict_keyiterator at 0x7f48a42c8680>"
            ]
          },
          "metadata": {},
          "execution_count": 4
        }
      ]
    },
    {
      "cell_type": "code",
      "source": [
        "# iterable은 상태를 기억하는 객체이다.\n",
        "# 'next()'를 사용해 다음 요소를 얻을 수 있다.\n",
        "next(our_iterator)"
      ],
      "metadata": {
        "colab": {
          "base_uri": "https://localhost:8080/",
          "height": 35
        },
        "id": "TObkEiDlS8Mh",
        "outputId": "8479627c-0a4c-4840-c633-6c161b65f83d"
      },
      "execution_count": 6,
      "outputs": [
        {
          "output_type": "execute_result",
          "data": {
            "text/plain": [
              "'one'"
            ],
            "application/vnd.google.colaboratory.intrinsic+json": {
              "type": "string"
            }
          },
          "metadata": {},
          "execution_count": 6
        }
      ]
    },
    {
      "cell_type": "code",
      "source": [
        "# 상태를 기억해 계속해서 다음 요소로 진행되며\n",
        "# 모든 데이터를 반환하면, 'Stopiteration' 이 발생한다.ㅠ\n",
        "next(our_iterator)\n",
        "next(our_iterator)\n",
        "next(our_iterator)"
      ],
      "metadata": {
        "colab": {
          "base_uri": "https://localhost:8080/",
          "height": 209
        },
        "id": "k5uGZn0GX6On",
        "outputId": "d3735468-7024-481a-bf8e-97608f777320"
      },
      "execution_count": 7,
      "outputs": [
        {
          "output_type": "error",
          "ename": "StopIteration",
          "evalue": "ignored",
          "traceback": [
            "\u001b[0;31m---------------------------------------------------------------------------\u001b[0m",
            "\u001b[0;31mStopIteration\u001b[0m                             Traceback (most recent call last)",
            "\u001b[0;32m<ipython-input-7-11a11ccfa226>\u001b[0m in \u001b[0;36m<module>\u001b[0;34m\u001b[0m\n\u001b[1;32m      3\u001b[0m \u001b[0mnext\u001b[0m\u001b[0;34m(\u001b[0m\u001b[0mour_iterator\u001b[0m\u001b[0;34m)\u001b[0m\u001b[0;34m\u001b[0m\u001b[0;34m\u001b[0m\u001b[0m\n\u001b[1;32m      4\u001b[0m \u001b[0mnext\u001b[0m\u001b[0;34m(\u001b[0m\u001b[0mour_iterator\u001b[0m\u001b[0;34m)\u001b[0m\u001b[0;34m\u001b[0m\u001b[0;34m\u001b[0m\u001b[0m\n\u001b[0;32m----> 5\u001b[0;31m \u001b[0mnext\u001b[0m\u001b[0;34m(\u001b[0m\u001b[0mour_iterator\u001b[0m\u001b[0;34m)\u001b[0m\u001b[0;34m\u001b[0m\u001b[0;34m\u001b[0m\u001b[0m\n\u001b[0m",
            "\u001b[0;31mStopIteration\u001b[0m: "
          ]
        }
      ]
    },
    {
      "cell_type": "code",
      "source": [
        "# for를 사용해 iterator로 반복문을 작성할 수 있다.\n",
        "our_iterator = iter(our_iterable)\n",
        "\n",
        "for i in our_iterator:\n",
        "  print(i)"
      ],
      "metadata": {
        "colab": {
          "base_uri": "https://localhost:8080/"
        },
        "id": "InUAViTxYWX3",
        "outputId": "d9d06a29-b0f7-49c4-dab9-44b4a057542d"
      },
      "execution_count": 9,
      "outputs": [
        {
          "output_type": "stream",
          "name": "stdout",
          "text": [
            "one\n",
            "two\n",
            "three\n"
          ]
        }
      ]
    },
    {
      "cell_type": "code",
      "source": [
        "# 'list()'를 사용해 iterable 혹은 iterator의 모든 요소를 묶을 수 있다.\n",
        "# 위에서 모든 요소를 소모했기에 반환된 내용물이 비어있다.\n",
        "list(our_iterator)"
      ],
      "metadata": {
        "colab": {
          "base_uri": "https://localhost:8080/"
        },
        "id": "uRGKXsVsYqob",
        "outputId": "383dde11-d5e0-4d2f-c809-6b0fdccef169"
      },
      "execution_count": 10,
      "outputs": [
        {
          "output_type": "execute_result",
          "data": {
            "text/plain": [
              "[]"
            ]
          },
          "metadata": {},
          "execution_count": 10
        }
      ]
    },
    {
      "cell_type": "code",
      "source": [
        "#######################################\n",
        "## 4. 함수\n",
        "#######################################"
      ],
      "metadata": {
        "id": "RbFev383Y_CD"
      },
      "execution_count": null,
      "outputs": []
    },
    {
      "cell_type": "code",
      "source": [
        "# 'def' 는 새로운 함수를 만든다.\n",
        "def add(x,y):\n",
        "  print('x is {} and y is {}' .format(x,y))\n",
        "  return x + y"
      ],
      "metadata": {
        "id": "ek2UVuNZZELP"
      },
      "execution_count": 11,
      "outputs": []
    },
    {
      "cell_type": "code",
      "source": [
        "# 함수 호출\n",
        "add(5, 6)"
      ],
      "metadata": {
        "colab": {
          "base_uri": "https://localhost:8080/"
        },
        "id": "xto192QxZWna",
        "outputId": "8ba56e0c-4912-4e64-c801-f9691d6c6a73"
      },
      "execution_count": 12,
      "outputs": [
        {
          "output_type": "stream",
          "name": "stdout",
          "text": [
            "x is 5 and y is 6\n"
          ]
        },
        {
          "output_type": "execute_result",
          "data": {
            "text/plain": [
              "11"
            ]
          },
          "metadata": {},
          "execution_count": 12
        }
      ]
    },
    {
      "cell_type": "code",
      "source": [
        "# keyward 문구로 호출할 수도 있다.\n",
        "add(y=1, x=2)"
      ],
      "metadata": {
        "colab": {
          "base_uri": "https://localhost:8080/"
        },
        "id": "M4FiDxbdZdDP",
        "outputId": "7ee0a8bd-be5c-46c7-97e1-4e95af46ef18"
      },
      "execution_count": 13,
      "outputs": [
        {
          "output_type": "stream",
          "name": "stdout",
          "text": [
            "x is 2 and y is 1\n"
          ]
        },
        {
          "output_type": "execute_result",
          "data": {
            "text/plain": [
              "3"
            ]
          },
          "metadata": {},
          "execution_count": 13
        }
      ]
    },
    {
      "cell_type": "code",
      "source": [
        "# 다양한 수의 인수를 갖는 함수를 만들수 있다.\n",
        "def varargs(*args):\n",
        "  return args\n",
        "\n",
        "varargs(1 ,2, 3)"
      ],
      "metadata": {
        "id": "9i9ZjOVYZkFL"
      },
      "execution_count": 15,
      "outputs": []
    },
    {
      "cell_type": "code",
      "source": [
        "def keyword_args(**kwargs):\n",
        "  return kwargs\n",
        "\n",
        "keyword_args(big='foot', loch='ness')"
      ],
      "metadata": {
        "colab": {
          "base_uri": "https://localhost:8080/"
        },
        "id": "bh3oo0gyaEs2",
        "outputId": "bbc92996-a0cd-4699-89f6-ae0b73352adb"
      },
      "execution_count": 19,
      "outputs": [
        {
          "output_type": "execute_result",
          "data": {
            "text/plain": [
              "{'big': 'foot', 'loch': 'ness'}"
            ]
          },
          "metadata": {},
          "execution_count": 19
        }
      ]
    },
    {
      "cell_type": "code",
      "source": [
        "def all_the_args(*args, **kwargs):\n",
        "  print(args)\n",
        "  print(kwargs)\n",
        "\n",
        "all_the_args(1, 2, a=3, b=4)"
      ],
      "metadata": {
        "colab": {
          "base_uri": "https://localhost:8080/"
        },
        "id": "_Y-eLSBma2tc",
        "outputId": "3a288f77-8eac-46fa-89dc-4500b45cdd80"
      },
      "execution_count": 20,
      "outputs": [
        {
          "output_type": "stream",
          "name": "stdout",
          "text": [
            "(1, 2)\n",
            "{'a': 3, 'b': 4}\n"
          ]
        }
      ]
    },
    {
      "cell_type": "code",
      "source": [
        "# 파라미터를 먼저 정하고 함수를 호출할 수 있다.\n",
        "# args는 *, kwargs는 **로 지정한다.\n",
        "args = (1, 2)\n",
        "kwargs = {'a' : 3, 'b' : 4}\n",
        "all_the_args(*args)\n",
        "all_the_args(**kwargs)\n",
        "all_the_args(*args, **kwargs)"
      ],
      "metadata": {
        "colab": {
          "base_uri": "https://localhost:8080/"
        },
        "id": "2cM9KAvSaJ9x",
        "outputId": "96b8e291-813a-4d3f-d8f8-d2f433788ea4"
      },
      "execution_count": 27,
      "outputs": [
        {
          "output_type": "stream",
          "name": "stdout",
          "text": [
            "(1, 2)\n",
            "{}\n",
            "()\n",
            "{'a': 3, 'b': 4}\n",
            "(1, 2)\n",
            "{'a': 3, 'b': 4}\n"
          ]
        }
      ]
    },
    {
      "cell_type": "code",
      "source": [
        "# 여러 변수 반환\n",
        "def swap(x,y):\n",
        "  return y,x\n",
        "\n",
        "x = 1\n",
        "y = 2\n",
        "x,y = swap(x,y)\n",
        "x"
      ],
      "metadata": {
        "colab": {
          "base_uri": "https://localhost:8080/"
        },
        "id": "AozGDyAUcXSS",
        "outputId": "dbfdf768-09be-45f1-f4e0-f4acfdff7db5"
      },
      "execution_count": 28,
      "outputs": [
        {
          "output_type": "execute_result",
          "data": {
            "text/plain": [
              "2"
            ]
          },
          "metadata": {},
          "execution_count": 28
        }
      ]
    },
    {
      "cell_type": "code",
      "source": [
        "# global 변수와 local 변수\n",
        "x = 5\n",
        "\n",
        "def set_x():\n",
        "  # local\n",
        "  x = 10\n",
        "  print(x)\n",
        "\n",
        "def set_global_x():\n",
        "  # global\n",
        "  global x\n",
        "  print(x, end=', ')\n",
        "  # local\n",
        "  x = 10\n",
        "  print(x)\n",
        "\n",
        "set_x()\n",
        "set_global_x()"
      ],
      "metadata": {
        "colab": {
          "base_uri": "https://localhost:8080/"
        },
        "id": "Yvau6W74cPwb",
        "outputId": "45fb7400-93de-48d4-b4fd-eb028d50da64"
      },
      "execution_count": 33,
      "outputs": [
        {
          "output_type": "stream",
          "name": "stdout",
          "text": [
            "10\n",
            "5, 10\n"
          ]
        }
      ]
    },
    {
      "cell_type": "code",
      "source": [
        "# first class 함수\n",
        "def create_adder(x):\n",
        "  def adder(y):\n",
        "    return x+y\n",
        "  return adder\n",
        "\n",
        "add_10 = create_adder(10)\n",
        "add_10(3)"
      ],
      "metadata": {
        "colab": {
          "base_uri": "https://localhost:8080/"
        },
        "id": "5QUwtcdTdCwg",
        "outputId": "1934e5cd-5a6d-4080-a178-68db55ba5efa"
      },
      "execution_count": 34,
      "outputs": [
        {
          "output_type": "execute_result",
          "data": {
            "text/plain": [
              "13"
            ]
          },
          "metadata": {},
          "execution_count": 34
        }
      ]
    },
    {
      "cell_type": "code",
      "source": [
        "# 익명 함수\n",
        "(lambda x: x > 2)(3)"
      ],
      "metadata": {
        "colab": {
          "base_uri": "https://localhost:8080/"
        },
        "id": "m1GNeRBNeEyE",
        "outputId": "94caf7ab-6014-4107-a105-42e6ca91a8ac"
      },
      "execution_count": 35,
      "outputs": [
        {
          "output_type": "execute_result",
          "data": {
            "text/plain": [
              "True"
            ]
          },
          "metadata": {},
          "execution_count": 35
        }
      ]
    },
    {
      "cell_type": "code",
      "source": [
        "# 내장된 고차 함수\n",
        "# map(func, iter) -> 함수를 이터만큼 반복\n",
        "list(map(add_10, [1, 2, 3]))"
      ],
      "metadata": {
        "colab": {
          "base_uri": "https://localhost:8080/"
        },
        "id": "tq0hePmjeO9b",
        "outputId": "fc324208-3ca8-4706-b649-89eb73ed4f58"
      },
      "execution_count": 36,
      "outputs": [
        {
          "output_type": "execute_result",
          "data": {
            "text/plain": [
              "[11, 12, 13]"
            ]
          },
          "metadata": {},
          "execution_count": 36
        }
      ]
    },
    {
      "cell_type": "code",
      "source": [
        "# filter(condition, iter) -> 함수를 iter만큼 반복\n",
        "list(filter(lambda x: x>5, [3, 4, 5, 6, 7]))"
      ],
      "metadata": {
        "colab": {
          "base_uri": "https://localhost:8080/"
        },
        "id": "rv4POHYiesv1",
        "outputId": "fe25f034-01c1-4531-c3e0-2bdb62f0f5fd"
      },
      "execution_count": 37,
      "outputs": [
        {
          "output_type": "execute_result",
          "data": {
            "text/plain": [
              "[6, 7]"
            ]
          },
          "metadata": {},
          "execution_count": 37
        }
      ]
    },
    {
      "cell_type": "code",
      "source": [
        "# set, dict로 사용할 수 있다.\n",
        "{x for x in 'abcdddeef' if x not in 'abc'}"
      ],
      "metadata": {
        "colab": {
          "base_uri": "https://localhost:8080/"
        },
        "id": "1hjs67gGfzli",
        "outputId": "9854f298-6715-4443-e1fb-9ce35fd52527"
      },
      "execution_count": 41,
      "outputs": [
        {
          "output_type": "execute_result",
          "data": {
            "text/plain": [
              "{'d', 'e', 'f'}"
            ]
          },
          "metadata": {},
          "execution_count": 41
        }
      ]
    },
    {
      "cell_type": "code",
      "source": [
        "{x : x**2 for x in range(5)}"
      ],
      "metadata": {
        "colab": {
          "base_uri": "https://localhost:8080/"
        },
        "id": "OCHT_KexgL5t",
        "outputId": "b1489d9a-88ac-490f-99b6-298e7da9f5df"
      },
      "execution_count": 40,
      "outputs": [
        {
          "output_type": "execute_result",
          "data": {
            "text/plain": [
              "{0: 0, 1: 1, 2: 4, 3: 9, 4: 16}"
            ]
          },
          "metadata": {},
          "execution_count": 40
        }
      ]
    },
    {
      "cell_type": "code",
      "source": [
        "#######################################\n",
        "## 5. 모듈\n",
        "#######################################"
      ],
      "metadata": {
        "id": "-CrLlGuQgcLL"
      },
      "execution_count": null,
      "outputs": []
    },
    {
      "cell_type": "code",
      "source": [
        "# 모듈을 임포트할 수 있다.\n",
        "# 모듈의 이름은 파일의 이름과 같다.\n",
        "import math\n",
        "print(math.sqrt(9))"
      ],
      "metadata": {
        "colab": {
          "base_uri": "https://localhost:8080/"
        },
        "id": "2EXHL39kgkdc",
        "outputId": "6c55878a-693d-41e5-b374-d1b2f0e225ab"
      },
      "execution_count": 42,
      "outputs": [
        {
          "output_type": "stream",
          "name": "stdout",
          "text": [
            "3.0\n"
          ]
        }
      ]
    },
    {
      "cell_type": "code",
      "source": [
        "# 모듈에서 특정 함수만 얻을 수 있다.\n",
        "from math import ceil, floor\n",
        "print(ceil(3.7))\n",
        "print(floor(3.7))"
      ],
      "metadata": {
        "colab": {
          "base_uri": "https://localhost:8080/"
        },
        "id": "K7mOpOiqhCgm",
        "outputId": "92a52a79-846e-4aab-afb9-8d215955a178"
      },
      "execution_count": 43,
      "outputs": [
        {
          "output_type": "stream",
          "name": "stdout",
          "text": [
            "4\n",
            "3\n"
          ]
        }
      ]
    },
    {
      "cell_type": "code",
      "source": [
        "# 모듈의 모든 함수를 임포트할 수 있다.\n",
        "# 추천되는 방법은 아니다.\n",
        "from math import*"
      ],
      "metadata": {
        "id": "DLO2swNuhSPN"
      },
      "execution_count": null,
      "outputs": []
    },
    {
      "cell_type": "code",
      "source": [
        "# 모듈의 이름을 단축할 수 있다.\n",
        "import math as m\n",
        "math.sqrt is m.sqrt"
      ],
      "metadata": {
        "colab": {
          "base_uri": "https://localhost:8080/"
        },
        "id": "y0t4OxB_hbTi",
        "outputId": "251d7896-33dc-42f4-e331-164bd04287af"
      },
      "execution_count": 44,
      "outputs": [
        {
          "output_type": "execute_result",
          "data": {
            "text/plain": [
              "True"
            ]
          },
          "metadata": {},
          "execution_count": 44
        }
      ]
    },
    {
      "cell_type": "code",
      "source": [
        "# 모듈의 함수와 속성을 확인할 수 있다.\n",
        "import math\n",
        "dir(math)"
      ],
      "metadata": {
        "colab": {
          "base_uri": "https://localhost:8080/"
        },
        "id": "WQ5RjyFXhl-M",
        "outputId": "fa387207-d304-4f50-d398-6cf43d7940de"
      },
      "execution_count": 45,
      "outputs": [
        {
          "output_type": "execute_result",
          "data": {
            "text/plain": [
              "['__doc__',\n",
              " '__loader__',\n",
              " '__name__',\n",
              " '__package__',\n",
              " '__spec__',\n",
              " 'acos',\n",
              " 'acosh',\n",
              " 'asin',\n",
              " 'asinh',\n",
              " 'atan',\n",
              " 'atan2',\n",
              " 'atanh',\n",
              " 'ceil',\n",
              " 'comb',\n",
              " 'copysign',\n",
              " 'cos',\n",
              " 'cosh',\n",
              " 'degrees',\n",
              " 'dist',\n",
              " 'e',\n",
              " 'erf',\n",
              " 'erfc',\n",
              " 'exp',\n",
              " 'expm1',\n",
              " 'fabs',\n",
              " 'factorial',\n",
              " 'floor',\n",
              " 'fmod',\n",
              " 'frexp',\n",
              " 'fsum',\n",
              " 'gamma',\n",
              " 'gcd',\n",
              " 'hypot',\n",
              " 'inf',\n",
              " 'isclose',\n",
              " 'isfinite',\n",
              " 'isinf',\n",
              " 'isnan',\n",
              " 'isqrt',\n",
              " 'lcm',\n",
              " 'ldexp',\n",
              " 'lgamma',\n",
              " 'log',\n",
              " 'log10',\n",
              " 'log1p',\n",
              " 'log2',\n",
              " 'modf',\n",
              " 'nan',\n",
              " 'nextafter',\n",
              " 'perm',\n",
              " 'pi',\n",
              " 'pow',\n",
              " 'prod',\n",
              " 'radians',\n",
              " 'remainder',\n",
              " 'sin',\n",
              " 'sinh',\n",
              " 'sqrt',\n",
              " 'tan',\n",
              " 'tanh',\n",
              " 'tau',\n",
              " 'trunc',\n",
              " 'ulp']"
            ]
          },
          "metadata": {},
          "execution_count": 45
        }
      ]
    },
    {
      "cell_type": "code",
      "source": [
        "#######################################\n",
        "## 6. 클래스\n",
        "#######################################"
      ],
      "metadata": {
        "id": "UnKFFXDwiB17"
      },
      "execution_count": null,
      "outputs": []
    },
    {
      "cell_type": "code",
      "source": [
        "# 'class'는 클래스 를 생성한다.\n",
        "class Human:\n",
        "  # 클래스의 속성. 클래스 전체에 공유된다.\n",
        "  species = \"H. sapiens\"\n",
        "\n",
        "  # 기본 초기화. 클래스 인스턴스화 시 호출\n",
        "  # __ __은 객체를 나타낸다.\n",
        "  # __init__, __str__, __repr__ 등을 특수 메소드라고 한다.\n",
        "  def __init__(self, name):\n",
        "    # 인스턴스의 이름 속성을 부여한다.\n",
        "    self.name = name\n",
        "\n",
        "    # 초기화 속성\n",
        "    self._age = 0\n",
        "\n",
        "  # 인스턴스 매서드. 모든 모서드는 \"self\"를 첫 인수로 사용한다.\n",
        "  def say(self, msg):\n",
        "    print(\"{name} : {message}\" .format(name = self.name, message = msg))\n",
        "\n",
        "  # 다른 인스턴스 매서드.\n",
        "  def sing(self):\n",
        "    return 'yo. yo. mic check. one. two'\n",
        "\n",
        "  # 클래스 매서드는 모든 인스턴스에 공유된다.\n",
        "  # 클래스를 첫 인수로 사용할 때 호출된다.\n",
        "  @classmethod\n",
        "  def get_species(cis):\n",
        "    return cis.species\n",
        "  \n",
        "  # 스태틱 매서드는 클래스나 인스턴스 참조 없이 호출된다.\n",
        "  @staticmethod\n",
        "  def grunt():\n",
        "    return \"*grunt*\"\n",
        "  \n",
        "  # property는 매서드를 읽기 전용 속성으로 변환한다.\n",
        "  @property\n",
        "  def age(self):\n",
        "    return self._age\n",
        "  \n",
        "  # property가 설정 가능하도록 허용한다.\n",
        "  @age.setter\n",
        "  def age(self, age):\n",
        "    self._age = age\n",
        "\n",
        "  # property를 제거하도록 허용한다.\n",
        "  @age.deleter\n",
        "  def age(self):\n",
        "    del self._age\n",
        "\n",
        "\n",
        "# __name__은 모듈이 메인 프로그램일 때만 코드 블록이 실행되도록 합니다.\n",
        "if __name__ == '__main__':\n",
        "  # 클래스 인스턴트화\n",
        "  # i와 j는 Human 타입의 인스턴스이다.\n",
        "  i = Human(name = 'Ian')\n",
        "  i.say('hi')\n",
        "  j = Human('Joel')\n",
        "  j.say(\"hello\")\n",
        "\n",
        "  # 클래스 매서드\n",
        "  i.say(i.get_species())\n",
        "  # 클래스 공유 속성 변경\n",
        "  Human.species = \"H.네안데르\"\n",
        "  j.say(i.get_species())\n",
        "\n",
        "  # 스태틱 매서드\n",
        "  # 인스턴스에서도 사용 가능하다.\n",
        "  print(Human.grunt())\n",
        "  print(i.grunt())\n",
        "\n",
        "  # 인스턴스의 property 업데이트\n",
        "  i.age = 27\n",
        "  \n",
        "  # property 접근\n",
        "  i.say(i.age)\n",
        "  j.say(j.age)\n",
        "\n",
        "  # property 제거\n",
        "  del i.age"
      ],
      "metadata": {
        "colab": {
          "base_uri": "https://localhost:8080/"
        },
        "id": "eh7Z3Yj4iMjP",
        "outputId": "236324df-6835-4c44-ca18-e43256b5c0b1"
      },
      "execution_count": 48,
      "outputs": [
        {
          "output_type": "stream",
          "name": "stdout",
          "text": [
            "Ian : hi\n",
            "Joel : hello\n",
            "Ian : H. sapiens\n",
            "Joel : H.네안데르\n",
            "*grunt*\n",
            "*grunt*\n",
            "Ian : 27\n",
            "Joel : 0\n"
          ]
        }
      ]
    },
    {
      "cell_type": "code",
      "source": [
        "#######################################\n",
        "## 6.1 상속\n",
        "#######################################"
      ],
      "metadata": {
        "id": "ZTS8eehEgfys"
      },
      "execution_count": null,
      "outputs": []
    },
    {
      "cell_type": "code",
      "source": [
        "# 부모 클래스의 매서드와 변수 상속하는 자식 클래스를 정의할 수 있다.\n",
        "# 위의 'Human'클래스의 변수, 매서드를 상속하지만 고유한 특성을 가지는 새 클래스를 정의한다.\n",
        "# 상속받을 부모 클래스를 클래스 정의의 변수로 사용한다.\n",
        "\n",
        "class Superhero(Human):\n",
        "  # 자식클래스가 부모의 정의를 모두 수정받을 경우, 'pass' 를 사용한다.\n",
        "  # 고유한 자식클래스를 위해 이번엔 사용하지 않는다.\n",
        "  # pass\n",
        "  \n",
        "  # 자식 클래스는 부모의 속성을 재정의 할 수 있다.\n",
        "  species = 'Superhuman'\n",
        "\n",
        "  # 생성자를 자동으로 상속받고, 인수를 추가한다.\n",
        "  def __init__(self, name, movie = False, superpowers = ['Strength', 'Bulletproofing']):\n",
        "\n",
        "    # 추가적인 클래스 속성을 추가한다.\n",
        "    self.fictional = True\n",
        "    self.movie = movie\n",
        "\n",
        "    # 복제본 생성\n",
        "    self.superpowers = superpowers.copy()\n",
        "\n",
        "    # 'super' 함수로 새로 설정된 매서드에 접근할 수 있다.\n",
        "    super().__init__(name)\n",
        "\n",
        "  # sing 매서드 재정의\n",
        "  def sing(self):\n",
        "    return 'Dun, dun, DUN!'\n",
        "\n",
        "  # 인스턴스 매서드 추가\n",
        "  def boast(self):\n",
        "    for power in self.superpowers:\n",
        "      print(\"I wield the power of {pow}!\" .format(pow = power))\n",
        "\n",
        "if __name__ == '__main__':\n",
        "  sup = Superhero(name = \"Tick\")\n",
        "\n",
        "  # 인스턴스 유형 확인\n",
        "\n",
        "  if isinstance(sup, Human):\n",
        "    print('I\\'m human')\n",
        "  if type(sup) is Superhero:\n",
        "    print('I\\'m superhero')\n",
        "\n",
        "  # 매서드 해결 순서 확인. 업데이트 가능\n",
        "  print(Superhero.__mro__)\n",
        "\n",
        "  # 부모 매서드 호출, 자식의 속성 반환\n",
        "  print(sup.get_species())\n",
        "\n",
        "  # 재설정된 매서드\n",
        "  print(sup.sing())\n",
        "\n",
        "  # 부모 매서드 사용\n",
        "  sup.say('Spoon')\n",
        "\n",
        "  # 자식 고유의 매서드 사용\n",
        "  sup.boast()\n",
        "\n",
        "  # 부모에게 상속받은 속성\n",
        "  sup.age = 3\n",
        "  print(sup.age)\n",
        "\n",
        "  # 자식 고유 속성\n",
        "  print('Am I Oscar eligible? ' + str(sup.movie))"
      ],
      "metadata": {
        "colab": {
          "base_uri": "https://localhost:8080/"
        },
        "id": "cZRiYPUeo_01",
        "outputId": "30ed293d-cc31-4e11-ad59-a549bbcdf2bb"
      },
      "execution_count": 52,
      "outputs": [
        {
          "output_type": "stream",
          "name": "stdout",
          "text": [
            "I'm human\n",
            "I'm superhero\n",
            "(<class '__main__.Superhero'>, <class '__main__.Human'>, <class 'object'>)\n",
            "Superhuman\n",
            "Dun, dun, DUN!\n",
            "Tick : Spoon\n",
            "I wield the power of Strength!\n",
            "I wield the power of Bulletproofing!\n",
            "3\n",
            "Am I Oscar eligible? False\n"
          ]
        }
      ]
    },
    {
      "cell_type": "code",
      "source": [
        "#######################################\n",
        "## 6.2 다중 상속\n",
        "#######################################"
      ],
      "metadata": {
        "id": "abip-U84oSl2"
      },
      "execution_count": 53,
      "outputs": []
    },
    {
      "cell_type": "code",
      "source": [
        "# 다른 클래스 정의\n",
        "class Bat :\n",
        "  species = 'Baty'\n",
        "\n",
        "  def __init__(self, can_fly = True):\n",
        "    self.fly = can_fly\n",
        "  \n",
        "  # 'say' 매서드\n",
        "  def say(self, msg):\n",
        "    msg = '.. .. ..'\n",
        "    return msg\n",
        "\n",
        "  # 고유 매서드\n",
        "  def sonar(self):\n",
        "    return ')) .. (('\n",
        "\n",
        "if __name__ == '__main__':\n",
        "  b = Bat()\n",
        "  print(b.say('hello'))\n",
        "  print(b.fly)"
      ],
      "metadata": {
        "colab": {
          "base_uri": "https://localhost:8080/"
        },
        "id": "WiuFcMwIv0WR",
        "outputId": "33dc88d7-d343-4772-e306-0773e88430cc"
      },
      "execution_count": 54,
      "outputs": [
        {
          "output_type": "stream",
          "name": "stdout",
          "text": [
            ".. .. ..\n",
            "True\n"
          ]
        }
      ]
    },
    {
      "cell_type": "code",
      "source": [
        "# 'Bat'와 'Superhero' 클래스를 상속받는 새 클래스 정의\n",
        "class Batman(Superhero, Bat):\n",
        "\n",
        "  # *args, **kwargs 를 사용해 두 클래스의 init매서드를 모두 호출한다.\n",
        "  def __init__(self, *args, **kwargs):\n",
        "    Superhero.__init__(self, 'anonymous', movie = True, superpowers = ['Wealthy'], *args, **kwargs)\n",
        "    Bat.__init__(self, *args, can_fly = False, **kwargs)\n",
        "    # name 속성 재설정\n",
        "    self.name = 'Sad Affleck'\n",
        "\n",
        "  def sing(self):\n",
        "    return 'Nan batman~'\n",
        "\n",
        "if __name__ == '__main__':\n",
        "  sup = Batman()\n",
        "\n",
        "  # 매서드 해결 순서 확인\n",
        "  print(Batman.__mro__)\n",
        "\n",
        "  # 'Human' 매서드, 'Superhuman' 속성\n",
        "  print(sup.get_species())\n",
        "\n",
        "  # 재설정된 매서드\n",
        "  print(sup.sing())\n",
        "\n",
        "  # 중복되는 매서드 호출 'Human' > 'Bat'\n",
        "  sup.say('Agree')\n",
        "\n",
        "  # 'Bat' 매서드 호출\n",
        "  print(sup.sonar())\n",
        "\n",
        "  # 'Human' 상속 속성\n",
        "  sup.age = 40\n",
        "  print(sup.age)\n",
        "\n",
        "  # 상속된 'Bat' 디폴트 값 호출\n",
        "  print('Can I fly? ' + str(sup.fly))"
      ],
      "metadata": {
        "colab": {
          "base_uri": "https://localhost:8080/"
        },
        "id": "k5PbjFcbwjkq",
        "outputId": "33ab9499-076a-4a96-b8ac-176ef11706c3"
      },
      "execution_count": 56,
      "outputs": [
        {
          "output_type": "stream",
          "name": "stdout",
          "text": [
            "(<class '__main__.Batman'>, <class '__main__.Superhero'>, <class '__main__.Human'>, <class '__main__.Bat'>, <class 'object'>)\n",
            "Superhuman\n",
            "Nan batman~\n",
            "Sad Affleck : Agree\n",
            ")) .. ((\n",
            "40\n",
            "Can I fly? False\n"
          ]
        }
      ]
    },
    {
      "cell_type": "code",
      "source": [
        "#######################################\n",
        "## 7. 심화\n",
        "#######################################"
      ],
      "metadata": {
        "id": "EdagfvXBtxw0"
      },
      "execution_count": 57,
      "outputs": []
    },
    {
      "cell_type": "code",
      "source": [
        "# Generator는 지연 코드 생성에 좋다.\n",
        "def double_num(iterable):\n",
        "  for i in iterable:\n",
        "    yield i + i\n",
        "\n",
        "# Generator는 메모리 효율적이다.\n",
        "# 다음 처리를 위해 필요한 데이터만을 로드한다.\n",
        "# 처리하기 어려운 매우 큰 값 범위의 작업을 수행 할 수 있다.\n",
        "\n",
        "for i in double_num(range(1, 9999999)):\n",
        "  print(i)\n",
        "  if i >= 30:\n",
        "    break"
      ],
      "metadata": {
        "colab": {
          "base_uri": "https://localhost:8080/"
        },
        "id": "KwxGEn-r0P_l",
        "outputId": "541d8881-12ec-4ef6-ea62-a5198f0a8b3c"
      },
      "execution_count": 58,
      "outputs": [
        {
          "output_type": "stream",
          "name": "stdout",
          "text": [
            "2\n",
            "4\n",
            "6\n",
            "8\n",
            "10\n",
            "12\n",
            "14\n",
            "16\n",
            "18\n",
            "20\n",
            "22\n",
            "24\n",
            "26\n",
            "28\n",
            "30\n"
          ]
        }
      ]
    },
    {
      "cell_type": "code",
      "source": [
        "# 제네레이터를 따로 만들어서 사용해도 된다.\n",
        "values = (-x for x in [1, 2, 3, 4, 5])\n",
        "for x in values:\n",
        "  print(x)\n",
        "\n",
        "values = (-x for x in [1, 2, 3, 4, 5])\n",
        "gen_to_list = list(values)\n",
        "print(gen_to_list)"
      ],
      "metadata": {
        "colab": {
          "base_uri": "https://localhost:8080/"
        },
        "id": "NzolFErd19gO",
        "outputId": "2773b04d-b185-4c64-e0f4-141b3c09765a"
      },
      "execution_count": 60,
      "outputs": [
        {
          "output_type": "stream",
          "name": "stdout",
          "text": [
            "-1\n",
            "-2\n",
            "-3\n",
            "-4\n",
            "-5\n",
            "[-1, -2, -3, -4, -5]\n"
          ]
        }
      ]
    },
    {
      "cell_type": "code",
      "source": [
        "# Decorators\n",
        "# 'beg' 이 'say'를 포장한다.\n",
        "# 'say_please'가 'True'라면, 반환 메세지가 바뀐다.\n",
        "\n",
        "from functools import wraps\n",
        "\n",
        "def beg(target_function):\n",
        "  @wraps(target_function)\n",
        "  def wrapper(*args, **kwargs):\n",
        "    msg, say_please = target_function(*args, **kwargs)\n",
        "    if say_please:\n",
        "      return \"{} {}\" .format(msg, \"Please! I\\'m poor :(\")\n",
        "    return msg\n",
        "  return wrapper\n",
        "\n",
        "@beg\n",
        "def say(say_please = False):\n",
        "  msg = \"Can you buy me a beer?\"\n",
        "  return msg, say_please\n",
        "\n",
        "print(say())\n",
        "print(say(say_please = True))"
      ],
      "metadata": {
        "colab": {
          "base_uri": "https://localhost:8080/"
        },
        "id": "_YkTNvXJ2kVu",
        "outputId": "8dd68c23-ce85-4278-b232-7818efe40830"
      },
      "execution_count": 63,
      "outputs": [
        {
          "output_type": "stream",
          "name": "stdout",
          "text": [
            "Can you buy me a beer?\n",
            "Can you buy me a beer? Please! I'm poor :(\n"
          ]
        }
      ]
    }
  ]
}